{
  "nbformat": 4,
  "nbformat_minor": 0,
  "metadata": {
    "colab": {
      "provenance": [],
      "authorship_tag": "ABX9TyPOX12+f5dC7v4z81BEA/vo",
      "include_colab_link": true
    },
    "kernelspec": {
      "name": "python3",
      "display_name": "Python 3"
    },
    "language_info": {
      "name": "python"
    }
  },
  "cells": [
    {
      "cell_type": "markdown",
      "metadata": {
        "id": "view-in-github",
        "colab_type": "text"
      },
      "source": [
        "<a href=\"https://colab.research.google.com/github/Anakinskywalker-14bby/Numpy_learning/blob/main/Numpy_Learning.ipynb\" target=\"_parent\"><img src=\"https://colab.research.google.com/assets/colab-badge.svg\" alt=\"Open In Colab\"/></a>"
      ]
    },
    {
      "cell_type": "markdown",
      "source": [
        "Functions lesson:\n",
        "Find the factorial of a number"
      ],
      "metadata": {
        "id": "WgKBNhB8W1cC"
      }
    },
    {
      "cell_type": "markdown",
      "source": [
        "Finding the factorial using loops"
      ],
      "metadata": {
        "id": "PwOeznPxXxOn"
      }
    },
    {
      "cell_type": "code",
      "execution_count": 7,
      "metadata": {
        "id": "jQUnSb26OX6p",
        "colab": {
          "base_uri": "https://localhost:8080/"
        },
        "outputId": "64cd19fe-58cb-4c6b-938f-033acf64bdbd"
      },
      "outputs": [
        {
          "output_type": "stream",
          "name": "stdout",
          "text": [
            "Enter a number to find it factorial: 5\n",
            "The factorial of 5 is 120\n"
          ]
        }
      ],
      "source": [
        "number = int(input('Enter a number to find it factorial: '))\n",
        "\n",
        "factorial = 1\n",
        "\n",
        "if number == 0:\n",
        "  print('The factorial of 0 is 1')\n",
        "\n",
        "else:\n",
        "  for i in range(1, number + 1):  #range(1,6) -> 1,2,3,4,5\n",
        "    factorial = factorial * i     #1*2*3*4*5\n",
        "\n",
        "  print('The factorial of', number, 'is', factorial)\n"
      ]
    },
    {
      "cell_type": "markdown",
      "source": [
        "Find the factorial using function"
      ],
      "metadata": {
        "id": "YjDNFiqlYRo0"
      }
    },
    {
      "cell_type": "code",
      "source": [
        "def factorial_value(num):\n",
        "  factorial = 1\n",
        "\n",
        "  if num == 0:\n",
        "    return factorial\n",
        "\n",
        "  else:\n",
        "    for i in range(1, num + 1):\n",
        "      factorial = factorial * i\n",
        "    return factorial"
      ],
      "metadata": {
        "id": "Va3VR9Q9YVdi"
      },
      "execution_count": 8,
      "outputs": []
    },
    {
      "cell_type": "code",
      "source": [
        "print(factorial_value(0))\n",
        "print(factorial_value(5))\n",
        "print(factorial_value(10))"
      ],
      "metadata": {
        "colab": {
          "base_uri": "https://localhost:8080/"
        },
        "id": "slQLnS07ZLLR",
        "outputId": "49eb6c45-116d-43bb-9ba2-d003f3139e13"
      },
      "execution_count": 10,
      "outputs": [
        {
          "output_type": "stream",
          "name": "stdout",
          "text": [
            "1\n",
            "120\n",
            "3628800\n"
          ]
        }
      ]
    }
  ]
}