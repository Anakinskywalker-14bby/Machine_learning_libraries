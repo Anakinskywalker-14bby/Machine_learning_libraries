{
  "nbformat": 4,
  "nbformat_minor": 0,
  "metadata": {
    "colab": {
      "provenance": [],
      "toc_visible": true,
      "authorship_tag": "ABX9TyMCxyWJuHlx1Ss6D5BbiFg7",
      "include_colab_link": true
    },
    "kernelspec": {
      "name": "python3",
      "display_name": "Python 3"
    },
    "language_info": {
      "name": "python"
    }
  },
  "cells": [
    {
      "cell_type": "markdown",
      "metadata": {
        "id": "view-in-github",
        "colab_type": "text"
      },
      "source": [
        "<a href=\"https://colab.research.google.com/github/Anakinskywalker-14bby/Numpy_learning/blob/main/Numpy_Learning.ipynb\" target=\"_parent\"><img src=\"https://colab.research.google.com/assets/colab-badge.svg\" alt=\"Open In Colab\"/></a>"
      ]
    },
    {
      "cell_type": "markdown",
      "source": [
        "Functions lesson:\n",
        "Find the factorial of a number"
      ],
      "metadata": {
        "id": "WgKBNhB8W1cC"
      }
    },
    {
      "cell_type": "markdown",
      "source": [
        "Finding the factorial using loops"
      ],
      "metadata": {
        "id": "PwOeznPxXxOn"
      }
    },
    {
      "cell_type": "code",
      "execution_count": 7,
      "metadata": {
        "id": "jQUnSb26OX6p",
        "colab": {
          "base_uri": "https://localhost:8080/"
        },
        "outputId": "64cd19fe-58cb-4c6b-938f-033acf64bdbd"
      },
      "outputs": [
        {
          "output_type": "stream",
          "name": "stdout",
          "text": [
            "Enter a number to find it factorial: 5\n",
            "The factorial of 5 is 120\n"
          ]
        }
      ],
      "source": [
        "number = int(input('Enter a number to find it factorial: '))\n",
        "\n",
        "factorial = 1\n",
        "\n",
        "if number == 0:\n",
        "  print('The factorial of 0 is 1')\n",
        "\n",
        "else:\n",
        "  for i in range(1, number + 1):  #range(1,6) -> 1,2,3,4,5\n",
        "    factorial = factorial * i     #1*2*3*4*5\n",
        "\n",
        "  print('The factorial of', number, 'is', factorial)\n"
      ]
    },
    {
      "cell_type": "markdown",
      "source": [
        "Find the factorial using function"
      ],
      "metadata": {
        "id": "YjDNFiqlYRo0"
      }
    },
    {
      "cell_type": "code",
      "source": [
        "def factorial_value(num):\n",
        "  factorial = 1\n",
        "\n",
        "  if num == 0:\n",
        "    return factorial\n",
        "\n",
        "  else:\n",
        "    for i in range(1, num + 1):\n",
        "      factorial = factorial * i\n",
        "    return factorial"
      ],
      "metadata": {
        "id": "Va3VR9Q9YVdi"
      },
      "execution_count": 8,
      "outputs": []
    },
    {
      "cell_type": "code",
      "source": [
        "print(factorial_value(0))\n",
        "print(factorial_value(5))\n",
        "print(factorial_value(10))"
      ],
      "metadata": {
        "colab": {
          "base_uri": "https://localhost:8080/"
        },
        "id": "slQLnS07ZLLR",
        "outputId": "49eb6c45-116d-43bb-9ba2-d003f3139e13"
      },
      "execution_count": 10,
      "outputs": [
        {
          "output_type": "stream",
          "name": "stdout",
          "text": [
            "1\n",
            "120\n",
            "3628800\n"
          ]
        }
      ]
    },
    {
      "cell_type": "markdown",
      "source": [
        "# NumPy - Numerial Python tutorial"
      ],
      "metadata": {
        "id": "d7tPbiw6aPTL"
      }
    },
    {
      "cell_type": "code",
      "source": [
        "import numpy as np"
      ],
      "metadata": {
        "id": "SIK9chCJaXFE"
      },
      "execution_count": 11,
      "outputs": []
    },
    {
      "cell_type": "markdown",
      "source": [
        "List Vs Numpy - Time taken"
      ],
      "metadata": {
        "id": "hQ06Lxs5cUqB"
      }
    },
    {
      "cell_type": "code",
      "source": [
        "from time import process_time"
      ],
      "metadata": {
        "id": "-Q2dvgFBbBGh"
      },
      "execution_count": 12,
      "outputs": []
    },
    {
      "cell_type": "markdown",
      "source": [
        "Time taken by a list"
      ],
      "metadata": {
        "id": "fMD8IszGcmMS"
      }
    },
    {
      "cell_type": "code",
      "source": [
        "python_list = [i for i in range(10000)]\n",
        "\n",
        "start_time = process_time()\n",
        "\n",
        "python_list = [i + 5 for i in python_list]\n",
        "\n",
        "end_time = process_time()\n",
        "\n",
        "print(end_time - start_time)"
      ],
      "metadata": {
        "colab": {
          "base_uri": "https://localhost:8080/"
        },
        "id": "NgXlfdG_clJA",
        "outputId": "375ad935-b8fe-4889-d7f7-fac8f5ef8122"
      },
      "execution_count": 16,
      "outputs": [
        {
          "output_type": "stream",
          "name": "stdout",
          "text": [
            "0.000615971000000215\n"
          ]
        }
      ]
    },
    {
      "cell_type": "markdown",
      "source": [
        "Time taken by Numpy"
      ],
      "metadata": {
        "id": "VtEpT5GwdirL"
      }
    },
    {
      "cell_type": "code",
      "source": [
        "np_array = np.array([i for i in range(10000)])\n",
        "\n",
        "start_time = process_time()\n",
        "\n",
        "np_array += 5 # np_array = np_array + 5\n",
        "\n",
        "end_time = process_time()\n",
        "\n",
        "print(end_time - start_time)"
      ],
      "metadata": {
        "colab": {
          "base_uri": "https://localhost:8080/"
        },
        "id": "2uBRPmjwdYj2",
        "outputId": "b65a0983-4b7c-4074-8144-85617b5f6332"
      },
      "execution_count": 17,
      "outputs": [
        {
          "output_type": "stream",
          "name": "stdout",
          "text": [
            "0.00020157300000001044\n"
          ]
        }
      ]
    },
    {
      "cell_type": "markdown",
      "source": [
        "# NumPy *Arrays*"
      ],
      "metadata": {
        "id": "RqD_P-Duq5pV"
      }
    },
    {
      "cell_type": "code",
      "source": [
        "#list\n",
        "list1 = [1,2,3,4,5]\n",
        "print(list1)\n",
        "type(list1)"
      ],
      "metadata": {
        "colab": {
          "base_uri": "https://localhost:8080/"
        },
        "id": "8TQzxosHpqge",
        "outputId": "6428f9c2-5808-42cd-8d20-06d31146f112"
      },
      "execution_count": 18,
      "outputs": [
        {
          "output_type": "stream",
          "name": "stdout",
          "text": [
            "[1, 2, 3, 4, 5]\n"
          ]
        },
        {
          "output_type": "execute_result",
          "data": {
            "text/plain": [
              "list"
            ]
          },
          "metadata": {},
          "execution_count": 18
        }
      ]
    },
    {
      "cell_type": "code",
      "source": [
        "#np array\n",
        "np_array = np.array([1,2,3,4,5])\n",
        "print(np_array)\n",
        "type(np_array)"
      ],
      "metadata": {
        "colab": {
          "base_uri": "https://localhost:8080/"
        },
        "id": "ybEydzHbtg_C",
        "outputId": "ade4c9d5-a76e-4c2c-9b7b-4ddbc8996a81"
      },
      "execution_count": 19,
      "outputs": [
        {
          "output_type": "stream",
          "name": "stdout",
          "text": [
            "[1 2 3 4 5]\n"
          ]
        },
        {
          "output_type": "execute_result",
          "data": {
            "text/plain": [
              "numpy.ndarray"
            ]
          },
          "metadata": {},
          "execution_count": 19
        }
      ]
    },
    {
      "cell_type": "code",
      "source": [
        "# creating a 1 dim array\n",
        "a = np.array([1,2,3,4])\n",
        "print(a)"
      ],
      "metadata": {
        "colab": {
          "base_uri": "https://localhost:8080/"
        },
        "id": "oZJjWTA7tyOu",
        "outputId": "333fed33-3d31-470d-9b0f-92c486f28821"
      },
      "execution_count": 20,
      "outputs": [
        {
          "output_type": "stream",
          "name": "stdout",
          "text": [
            "[1 2 3 4]\n"
          ]
        }
      ]
    },
    {
      "cell_type": "code",
      "source": [
        "a.shape #gives the rows and cols"
      ],
      "metadata": {
        "colab": {
          "base_uri": "https://localhost:8080/"
        },
        "id": "8F_pSzRxuMTm",
        "outputId": "7acffd7c-db0b-473d-b613-f1f0e5ca4a37"
      },
      "execution_count": 21,
      "outputs": [
        {
          "output_type": "execute_result",
          "data": {
            "text/plain": [
              "(4,)"
            ]
          },
          "metadata": {},
          "execution_count": 21
        }
      ]
    },
    {
      "cell_type": "code",
      "source": [
        "b = np.array([(1,2,3,4),(5,6,7,8)])\n",
        "print(b)"
      ],
      "metadata": {
        "colab": {
          "base_uri": "https://localhost:8080/"
        },
        "id": "9z0GTEw4uSq7",
        "outputId": "b3ad7cd2-1773-4b27-c1b5-6b987f6825f6"
      },
      "execution_count": 22,
      "outputs": [
        {
          "output_type": "stream",
          "name": "stdout",
          "text": [
            "[[1 2 3 4]\n",
            " [5 6 7 8]]\n"
          ]
        }
      ]
    },
    {
      "cell_type": "code",
      "source": [
        "b.shape"
      ],
      "metadata": {
        "colab": {
          "base_uri": "https://localhost:8080/"
        },
        "id": "7OhlSx3uueLD",
        "outputId": "9b9d228f-4dbf-4ab3-e4f3-c8fa337b16e3"
      },
      "execution_count": 23,
      "outputs": [
        {
          "output_type": "execute_result",
          "data": {
            "text/plain": [
              "(2, 4)"
            ]
          },
          "metadata": {},
          "execution_count": 23
        }
      ]
    },
    {
      "cell_type": "code",
      "source": [
        "# arrays with floating points\n",
        "c = np.array([(1,2,3,4),(5,6,7,8)],dtype = float)\n",
        "print(c)"
      ],
      "metadata": {
        "colab": {
          "base_uri": "https://localhost:8080/"
        },
        "id": "ZrxYrOKougKT",
        "outputId": "11ba49ce-8552-45f0-c4b6-2412ea03de71"
      },
      "execution_count": 24,
      "outputs": [
        {
          "output_type": "stream",
          "name": "stdout",
          "text": [
            "[[1. 2. 3. 4.]\n",
            " [5. 6. 7. 8.]]\n"
          ]
        }
      ]
    },
    {
      "cell_type": "markdown",
      "source": [
        "Initial Placeholders in Numpy arrays"
      ],
      "metadata": {
        "id": "RFcP0k-cu_sE"
      }
    },
    {
      "cell_type": "code",
      "source": [],
      "metadata": {
        "id": "Yvmok6jlu7n_"
      },
      "execution_count": null,
      "outputs": []
    }
  ]
}