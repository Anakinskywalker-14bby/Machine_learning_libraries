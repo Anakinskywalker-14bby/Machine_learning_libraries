{
  "nbformat": 4,
  "nbformat_minor": 0,
  "metadata": {
    "colab": {
      "provenance": [],
      "toc_visible": true,
      "authorship_tag": "ABX9TyOd631xhbWT5KhItFS8HbLv",
      "include_colab_link": true
    },
    "kernelspec": {
      "name": "python3",
      "display_name": "Python 3"
    },
    "language_info": {
      "name": "python"
    }
  },
  "cells": [
    {
      "cell_type": "markdown",
      "metadata": {
        "id": "view-in-github",
        "colab_type": "text"
      },
      "source": [
        "<a href=\"https://colab.research.google.com/github/Anakinskywalker-14bby/Numpy_learning/blob/main/Numpy_Learning.ipynb\" target=\"_parent\"><img src=\"https://colab.research.google.com/assets/colab-badge.svg\" alt=\"Open In Colab\"/></a>"
      ]
    },
    {
      "cell_type": "markdown",
      "source": [
        "Functions lesson:\n",
        "Find the factorial of a number"
      ],
      "metadata": {
        "id": "WgKBNhB8W1cC"
      }
    },
    {
      "cell_type": "markdown",
      "source": [
        "Finding the factorial using loops"
      ],
      "metadata": {
        "id": "PwOeznPxXxOn"
      }
    },
    {
      "cell_type": "code",
      "execution_count": 7,
      "metadata": {
        "id": "jQUnSb26OX6p",
        "colab": {
          "base_uri": "https://localhost:8080/"
        },
        "outputId": "64cd19fe-58cb-4c6b-938f-033acf64bdbd"
      },
      "outputs": [
        {
          "output_type": "stream",
          "name": "stdout",
          "text": [
            "Enter a number to find it factorial: 5\n",
            "The factorial of 5 is 120\n"
          ]
        }
      ],
      "source": [
        "number = int(input('Enter a number to find it factorial: '))\n",
        "\n",
        "factorial = 1\n",
        "\n",
        "if number == 0:\n",
        "  print('The factorial of 0 is 1')\n",
        "\n",
        "else:\n",
        "  for i in range(1, number + 1):  #range(1,6) -> 1,2,3,4,5\n",
        "    factorial = factorial * i     #1*2*3*4*5\n",
        "\n",
        "  print('The factorial of', number, 'is', factorial)\n"
      ]
    },
    {
      "cell_type": "markdown",
      "source": [
        "Find the factorial using function"
      ],
      "metadata": {
        "id": "YjDNFiqlYRo0"
      }
    },
    {
      "cell_type": "code",
      "source": [
        "def factorial_value(num):\n",
        "  factorial = 1\n",
        "\n",
        "  if num == 0:\n",
        "    return factorial\n",
        "\n",
        "  else:\n",
        "    for i in range(1, num + 1):\n",
        "      factorial = factorial * i\n",
        "    return factorial"
      ],
      "metadata": {
        "id": "Va3VR9Q9YVdi"
      },
      "execution_count": 8,
      "outputs": []
    },
    {
      "cell_type": "code",
      "source": [
        "print(factorial_value(0))\n",
        "print(factorial_value(5))\n",
        "print(factorial_value(10))"
      ],
      "metadata": {
        "colab": {
          "base_uri": "https://localhost:8080/"
        },
        "id": "slQLnS07ZLLR",
        "outputId": "49eb6c45-116d-43bb-9ba2-d003f3139e13"
      },
      "execution_count": 10,
      "outputs": [
        {
          "output_type": "stream",
          "name": "stdout",
          "text": [
            "1\n",
            "120\n",
            "3628800\n"
          ]
        }
      ]
    },
    {
      "cell_type": "markdown",
      "source": [
        "# NumPy - Numerial Python tutorial"
      ],
      "metadata": {
        "id": "d7tPbiw6aPTL"
      }
    },
    {
      "cell_type": "code",
      "source": [
        "import numpy as np"
      ],
      "metadata": {
        "id": "SIK9chCJaXFE"
      },
      "execution_count": 11,
      "outputs": []
    },
    {
      "cell_type": "markdown",
      "source": [
        "List Vs Numpy - Time taken"
      ],
      "metadata": {
        "id": "hQ06Lxs5cUqB"
      }
    },
    {
      "cell_type": "code",
      "source": [
        "from time import process_time"
      ],
      "metadata": {
        "id": "-Q2dvgFBbBGh"
      },
      "execution_count": 12,
      "outputs": []
    },
    {
      "cell_type": "markdown",
      "source": [
        "Time taken by a list"
      ],
      "metadata": {
        "id": "fMD8IszGcmMS"
      }
    },
    {
      "cell_type": "code",
      "source": [
        "python_list = [i for i in range(10000)]\n",
        "\n",
        "start_time = process_time()\n",
        "\n",
        "python_list = [i + 5 for i in python_list]\n",
        "\n",
        "end_time = process_time()\n",
        "\n",
        "print(end_time - start_time)"
      ],
      "metadata": {
        "colab": {
          "base_uri": "https://localhost:8080/"
        },
        "id": "NgXlfdG_clJA",
        "outputId": "375ad935-b8fe-4889-d7f7-fac8f5ef8122"
      },
      "execution_count": 16,
      "outputs": [
        {
          "output_type": "stream",
          "name": "stdout",
          "text": [
            "0.000615971000000215\n"
          ]
        }
      ]
    },
    {
      "cell_type": "markdown",
      "source": [
        "Time taken by Numpy"
      ],
      "metadata": {
        "id": "VtEpT5GwdirL"
      }
    },
    {
      "cell_type": "code",
      "source": [
        "np_array = np.array([i for i in range(10000)])\n",
        "\n",
        "start_time = process_time()\n",
        "\n",
        "np_array += 5 # np_array = np_array + 5\n",
        "\n",
        "end_time = process_time()\n",
        "\n",
        "print(end_time - start_time)"
      ],
      "metadata": {
        "colab": {
          "base_uri": "https://localhost:8080/"
        },
        "id": "2uBRPmjwdYj2",
        "outputId": "b65a0983-4b7c-4074-8144-85617b5f6332"
      },
      "execution_count": 17,
      "outputs": [
        {
          "output_type": "stream",
          "name": "stdout",
          "text": [
            "0.00020157300000001044\n"
          ]
        }
      ]
    },
    {
      "cell_type": "code",
      "source": [],
      "metadata": {
        "id": "8TQzxosHpqge"
      },
      "execution_count": null,
      "outputs": []
    }
  ]
}