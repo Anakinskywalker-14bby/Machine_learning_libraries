{
  "nbformat": 4,
  "nbformat_minor": 0,
  "metadata": {
    "colab": {
      "provenance": [],
      "toc_visible": true,
      "authorship_tag": "ABX9TyOMZeCuKpeIvYvvsXL3Nb4r",
      "include_colab_link": true
    },
    "kernelspec": {
      "name": "python3",
      "display_name": "Python 3"
    },
    "language_info": {
      "name": "python"
    }
  },
  "cells": [
    {
      "cell_type": "markdown",
      "metadata": {
        "id": "view-in-github",
        "colab_type": "text"
      },
      "source": [
        "<a href=\"https://colab.research.google.com/github/Anakinskywalker-14bby/Machine_learning_libraries/blob/main/Pandas_Tutorial.ipynb\" target=\"_parent\"><img src=\"https://colab.research.google.com/assets/colab-badge.svg\" alt=\"Open In Colab\"/></a>"
      ]
    },
    {
      "cell_type": "markdown",
      "source": [
        "# Pandas Library"
      ],
      "metadata": {
        "id": "4uL5DXSKm0AH"
      }
    },
    {
      "cell_type": "markdown",
      "source": [
        "Pandas Data Frame is a two-dimensional tabular data structure with labbeled axes (rows and cloumns)"
      ],
      "metadata": {
        "id": "L3uFynh4m3u2"
      }
    },
    {
      "cell_type": "code",
      "source": [],
      "metadata": {
        "id": "zdB9yp7Jm2fp"
      },
      "execution_count": null,
      "outputs": []
    }
  ]
}